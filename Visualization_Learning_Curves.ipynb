{
  "nbformat": 4,
  "nbformat_minor": 0,
  "metadata": {
    "colab": {
      "provenance": []
    },
    "kernelspec": {
      "name": "python3",
      "display_name": "Python 3"
    },
    "language_info": {
      "name": "python"
    }
  },
  "cells": [
    {
      "cell_type": "code",
      "execution_count": null,
      "metadata": {
        "colab": {
          "base_uri": "https://localhost:8080/"
        },
        "id": "WixTEQ7KZUZ5",
        "outputId": "eded584b-75d4-424a-ca1e-bdcd02838a00"
      },
      "outputs": [
        {
          "output_type": "stream",
          "name": "stdout",
          "text": [
            "Mounted at /content/drive\n"
          ]
        }
      ],
      "source": [
        "#Para acessar os arquivos do Drive\n",
        "from google.colab import drive\n",
        "drive.mount('/content/drive', force_remount=True)"
      ]
    },
    {
      "cell_type": "code",
      "source": [
        "import pandas as pd\n",
        "import matplotlib.pyplot as plt\n",
        "import os\n",
        "import glob\n",
        "import numpy as np"
      ],
      "metadata": {
        "id": "BP0Dbd87ZdFt"
      },
      "execution_count": null,
      "outputs": []
    },
    {
      "cell_type": "code",
      "source": [
        "# Caminhos no Drive\n",
        "path = '/content/drive/MyDrive/UFC/TCC/odonto/history/metrics_new'\n",
        "figures_path = '/content/drive/MyDrive/UFC/TCC/odonto/curvas_aprendizado'\n",
        "os.makedirs(figures_path, exist_ok=True)"
      ],
      "metadata": {
        "id": "yd29DgshZhe9"
      },
      "execution_count": null,
      "outputs": []
    },
    {
      "cell_type": "code",
      "source": [
        "# Lista dos nomes dos filtros e modelos utilizados\n",
        "preprocessamentos = ['images', 'subtract_laplacian', 'subtract_sobel', 'subtract_prewitt',\n",
        "                     'subtract_roberts', 'subtract_blackhat', 'gammaCorrection', 'add_tophat']\n",
        "modelos = ['InceptionV3', 'EfficientNetV2B0', 'VGG19']"
      ],
      "metadata": {
        "id": "W_S3W-zBZmEu"
      },
      "execution_count": null,
      "outputs": []
    },
    {
      "cell_type": "code",
      "source": [
        "# Função para plotar e salvar curvas de aprendizado\n",
        "def plot_learning_curves(preproc, model):\n",
        "    pattern = f'{path}/{preproc}_{model}_fold*.csv'\n",
        "    files = glob.glob(pattern)\n",
        "\n",
        "    if not files:\n",
        "        print(f\"⚠️ Nenhum histórico encontrado para {preproc} + {model}\")\n",
        "        return\n",
        "\n",
        "    all_histories = []\n",
        "\n",
        "    for file in files:\n",
        "        df = pd.read_csv(file)\n",
        "        all_histories.append(df)\n",
        "\n",
        "    # Garantir alinhamento pelo menor número de épocas\n",
        "    min_epochs = min([len(h) for h in all_histories])\n",
        "    all_histories = [h.iloc[:min_epochs] for h in all_histories]\n",
        "\n",
        "    # Empilhar os históricos e calcular média/STD\n",
        "    stacked = np.stack([h[['accuracy', 'val_accuracy', 'loss', 'val_loss']].values for h in all_histories])\n",
        "    mean_vals = np.mean(stacked, axis=0)\n",
        "    std_vals = np.std(stacked, axis=0)\n",
        "    epochs = np.arange(min_epochs)\n",
        "\n",
        "    # Criar gráfico\n",
        "    plt.figure(figsize=(12, 6))\n",
        "\n",
        "    # Acurácia\n",
        "    plt.subplot(1, 2, 1)\n",
        "    plt.plot(epochs, mean_vals[:, 0], label='Treino')\n",
        "    plt.fill_between(epochs, mean_vals[:, 0] - std_vals[:, 0], mean_vals[:, 0] + std_vals[:, 0], alpha=0.2)\n",
        "    plt.plot(epochs, mean_vals[:, 1], label='Validação')\n",
        "    plt.fill_between(epochs, mean_vals[:, 1] - std_vals[:, 1], mean_vals[:, 1] + std_vals[:, 1], alpha=0.2)\n",
        "    plt.title(f'Acurácia - {preproc} + {model}')\n",
        "    plt.xlabel('Época')\n",
        "    plt.ylabel('Acurácia')\n",
        "    plt.legend()\n",
        "\n",
        "    # Loss\n",
        "    plt.subplot(1, 2, 2)\n",
        "    plt.plot(epochs, mean_vals[:, 2], label='Treino')\n",
        "    plt.fill_between(epochs, mean_vals[:, 2] - std_vals[:, 2], mean_vals[:, 2] + std_vals[:, 2], alpha=0.2)\n",
        "    plt.plot(epochs, mean_vals[:, 3], label='Validação')\n",
        "    plt.fill_between(epochs, mean_vals[:, 3] - std_vals[:, 3], mean_vals[:, 3] + std_vals[:, 3], alpha=0.2)\n",
        "    plt.title(f'Loss - {preproc} + {model}')\n",
        "    plt.xlabel('Época')\n",
        "    plt.ylabel('Loss')\n",
        "    plt.legend()\n",
        "\n",
        "    plt.tight_layout()\n",
        "\n",
        "    # Salvar figura\n",
        "    filename = f'curva_{preproc}_{model}.png'\n",
        "    save_path = os.path.join(figures_path, filename)\n",
        "    plt.savefig(save_path, dpi=300)\n",
        "    plt.close()\n",
        "    print(f'✅ Gráfico salvo: {save_path}')\n",
        "\n",
        "# Gerar e salvar gráficos para todos os modelos e filtros\n",
        "for model in modelos:\n",
        "    for preproc in preprocessamentos:\n",
        "        plot_learning_curves(preproc, model)"
      ],
      "metadata": {
        "colab": {
          "base_uri": "https://localhost:8080/"
        },
        "id": "ZyywbV_vZqV0",
        "outputId": "c0ced493-3708-402b-b260-b8e71d228469"
      },
      "execution_count": null,
      "outputs": [
        {
          "output_type": "stream",
          "name": "stdout",
          "text": [
            "✅ Gráfico salvo: /content/drive/MyDrive/UFC/TCC/odonto/curvas_aprendizado/curva_images_InceptionV3.png\n",
            "✅ Gráfico salvo: /content/drive/MyDrive/UFC/TCC/odonto/curvas_aprendizado/curva_subtract_laplacian_InceptionV3.png\n",
            "✅ Gráfico salvo: /content/drive/MyDrive/UFC/TCC/odonto/curvas_aprendizado/curva_subtract_sobel_InceptionV3.png\n",
            "✅ Gráfico salvo: /content/drive/MyDrive/UFC/TCC/odonto/curvas_aprendizado/curva_subtract_prewitt_InceptionV3.png\n",
            "✅ Gráfico salvo: /content/drive/MyDrive/UFC/TCC/odonto/curvas_aprendizado/curva_subtract_roberts_InceptionV3.png\n",
            "✅ Gráfico salvo: /content/drive/MyDrive/UFC/TCC/odonto/curvas_aprendizado/curva_subtract_blackhat_InceptionV3.png\n",
            "✅ Gráfico salvo: /content/drive/MyDrive/UFC/TCC/odonto/curvas_aprendizado/curva_gammaCorrection_InceptionV3.png\n",
            "✅ Gráfico salvo: /content/drive/MyDrive/UFC/TCC/odonto/curvas_aprendizado/curva_add_tophat_InceptionV3.png\n",
            "✅ Gráfico salvo: /content/drive/MyDrive/UFC/TCC/odonto/curvas_aprendizado/curva_images_EfficientNetV2B0.png\n",
            "✅ Gráfico salvo: /content/drive/MyDrive/UFC/TCC/odonto/curvas_aprendizado/curva_subtract_laplacian_EfficientNetV2B0.png\n",
            "✅ Gráfico salvo: /content/drive/MyDrive/UFC/TCC/odonto/curvas_aprendizado/curva_subtract_sobel_EfficientNetV2B0.png\n",
            "✅ Gráfico salvo: /content/drive/MyDrive/UFC/TCC/odonto/curvas_aprendizado/curva_subtract_prewitt_EfficientNetV2B0.png\n",
            "✅ Gráfico salvo: /content/drive/MyDrive/UFC/TCC/odonto/curvas_aprendizado/curva_subtract_roberts_EfficientNetV2B0.png\n",
            "✅ Gráfico salvo: /content/drive/MyDrive/UFC/TCC/odonto/curvas_aprendizado/curva_subtract_blackhat_EfficientNetV2B0.png\n",
            "✅ Gráfico salvo: /content/drive/MyDrive/UFC/TCC/odonto/curvas_aprendizado/curva_gammaCorrection_EfficientNetV2B0.png\n",
            "✅ Gráfico salvo: /content/drive/MyDrive/UFC/TCC/odonto/curvas_aprendizado/curva_add_tophat_EfficientNetV2B0.png\n",
            "✅ Gráfico salvo: /content/drive/MyDrive/UFC/TCC/odonto/curvas_aprendizado/curva_images_VGG19.png\n",
            "✅ Gráfico salvo: /content/drive/MyDrive/UFC/TCC/odonto/curvas_aprendizado/curva_subtract_laplacian_VGG19.png\n",
            "✅ Gráfico salvo: /content/drive/MyDrive/UFC/TCC/odonto/curvas_aprendizado/curva_subtract_sobel_VGG19.png\n",
            "✅ Gráfico salvo: /content/drive/MyDrive/UFC/TCC/odonto/curvas_aprendizado/curva_subtract_prewitt_VGG19.png\n",
            "✅ Gráfico salvo: /content/drive/MyDrive/UFC/TCC/odonto/curvas_aprendizado/curva_subtract_roberts_VGG19.png\n",
            "✅ Gráfico salvo: /content/drive/MyDrive/UFC/TCC/odonto/curvas_aprendizado/curva_subtract_blackhat_VGG19.png\n",
            "✅ Gráfico salvo: /content/drive/MyDrive/UFC/TCC/odonto/curvas_aprendizado/curva_gammaCorrection_VGG19.png\n",
            "✅ Gráfico salvo: /content/drive/MyDrive/UFC/TCC/odonto/curvas_aprendizado/curva_add_tophat_VGG19.png\n"
          ]
        }
      ]
    }
  ]
}